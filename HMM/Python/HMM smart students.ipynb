{
 "cells": [
  {
   "cell_type": "code",
   "execution_count": 1,
   "metadata": {},
   "outputs": [],
   "source": [
    "import numpy as np\n",
    "import copy"
   ]
  },
  {
   "cell_type": "markdown",
   "metadata": {},
   "source": [
    "- __Початкові величини (настрій від типу задач)__"
   ]
  },
  {
   "cell_type": "code",
   "execution_count": 2,
   "metadata": {},
   "outputs": [],
   "source": [
    "A = [[0.2, 0.3, 0.5],\n",
    "     [0.2, 0.2, 0.6],\n",
    "     [0.0, 0.2, 0.8]]\n",
    "\n",
    "B = [[0.7, 0.2, 0.1],\n",
    "     [0.3, 0.4, 0.3],\n",
    "     [0.0, 0.1, 0.9]]\n",
    "\n",
    "y = [3,1,1,2,2]\n",
    "\n",
    "time = len(y)\n",
    "\n",
    "N = len(B)\n",
    "M = len(B[0])\n",
    "\n",
    "m = [0.05, 0.2, 0.75]"
   ]
  },
  {
   "cell_type": "markdown",
   "metadata": {},
   "source": [
    "- __Алгоритм прямого ходу__"
   ]
  },
  {
   "cell_type": "code",
   "execution_count": 3,
   "metadata": {},
   "outputs": [],
   "source": [
    "def alpha_calculation(m,A,B):\n",
    "    alpha = [[0.0 for i in range(N)] for t in range(time)]\n",
    "\n",
    "    for t in range(time):\n",
    "        for i in range(N):\n",
    "            if t == 0: \n",
    "                alpha[t][i] = m[i]*B[i][y[t]-1]\n",
    "            else:\n",
    "                aA = 0\n",
    "                for j in range(N):\n",
    "                    aA += alpha[t-1][j]*A[j][i]\n",
    "                alpha[t][i] = aA*B[i][y[t]-1]\n",
    "\n",
    "    # for i in range(time):\n",
    "    #     print(f\"Time {i}: {alpha[i]}\")\n",
    "\n",
    "    P_alpha = 0\n",
    "    for i in range(len(alpha[time-1])):\n",
    "        P_alpha += alpha[time-1][i]\n",
    "\n",
    "    return alpha, P_alpha"
   ]
  },
  {
   "cell_type": "markdown",
   "metadata": {},
   "source": [
    "- __Алгоритм зворотнього ходу__"
   ]
  },
  {
   "cell_type": "code",
   "execution_count": 4,
   "metadata": {},
   "outputs": [],
   "source": [
    "def beta_calculation(m,A,B):\n",
    "    beta = [[0.0 for i in range(N)] for t in range(time)]\n",
    "\n",
    "    for t in range(time-1, -1, -1):\n",
    "        for i in range(N):\n",
    "            if t == time-1: \n",
    "                beta[t][i] = 1\n",
    "            else:\n",
    "                sum = 0\n",
    "                for j in range(N):\n",
    "                    sum += beta[t+1][j]*A[i][j]*B[j][y[t+1]-1]\n",
    "                beta[t][i] = sum\n",
    "\n",
    "    # for i in range(time-1, -1, -1):\n",
    "    #     print(f\"Time {i}: {beta[i]}\")\n",
    "\n",
    "    P_beta = 0\n",
    "    for i in range(len(beta[0])):\n",
    "        P_beta += beta[0][i]*B[i][y[0]-1]*m[i]\n",
    "\n",
    "    return beta, P_beta"
   ]
  },
  {
   "cell_type": "markdown",
   "metadata": {},
   "source": [
    "- __Додаткові величини__"
   ]
  },
  {
   "cell_type": "code",
   "execution_count": 5,
   "metadata": {},
   "outputs": [],
   "source": [
    "def gamma(alpha,beta,P):\n",
    "    gamma_i = [[0.0 for i in range(N)] for t in range(time)]\n",
    "\n",
    "    for t in range(time):\n",
    "        for i in range(N):\n",
    "            gamma_i[t][i] = alpha[t][i]*beta[t][i]/P\n",
    "\n",
    "    gamma_ij = [[[0.0 for j in range(N)] for i in range(N)] for t in range(time-1)]\n",
    "\n",
    "    for t in range(time-1):\n",
    "        for i in range(N):\n",
    "            for j in range(N):\n",
    "                gamma_ij[t][i][j] = alpha[t][i]*A[i][j]*B[j][y[t+1]-1]*beta[t+1][j]/P\n",
    "\n",
    "    return gamma_i, gamma_ij"
   ]
  },
  {
   "cell_type": "markdown",
   "metadata": {},
   "source": [
    "- __Переоцінка значень__"
   ]
  },
  {
   "cell_type": "code",
   "execution_count": 6,
   "metadata": {},
   "outputs": [],
   "source": [
    "def reestimation(m,A,B,gamma_i,gamma_ij):\n",
    "    for i in range(N):\n",
    "        m[i] = gamma_i[0][i]\n",
    "\n",
    "    for i in range(N):\n",
    "        for j in range(N):\n",
    "            sum_i, sum_ij = 0, 0\n",
    "            for t in range(time-1):\n",
    "                sum_ij += gamma_ij[t][i][j]\n",
    "                sum_i += gamma_i[t][i]\n",
    "            A[i][j] = sum_ij/sum_i\n",
    "\n",
    "    for j in range(N):\n",
    "        for k in range(M):\n",
    "            sum_up, sum_down = 0, 0\n",
    "            for t in range(time):\n",
    "                if y[t] == k+1: sum_up += gamma_i[t][j]\n",
    "                sum_down += gamma_i[t][j]\n",
    "            B[j][k] = sum_up/sum_down\n",
    "\n",
    "    return m, A, B"
   ]
  },
  {
   "cell_type": "markdown",
   "metadata": {},
   "source": [
    "- __Задача І (оцінювання)__"
   ]
  },
  {
   "cell_type": "code",
   "execution_count": 7,
   "metadata": {},
   "outputs": [
    {
     "name": "stdout",
     "output_type": "stream",
     "text": [
      "0.2555899124000002 [3, 3, 3, 3, 3]\n"
     ]
    }
   ],
   "source": [
    "P = [[] for i in range(3*3*3*3*3)]\n",
    "\n",
    "k = 0\n",
    "for i_1 in range(3):\n",
    "    for i_2 in range(3):\n",
    "        for i_3 in range(3):\n",
    "            for i_4 in range(3):\n",
    "                for i_5 in range(3):\n",
    "                    y = [i_1+1, i_2+1, i_3+1, i_4+1, i_5+1]\n",
    "                    time = len(y)\n",
    "\n",
    "                    alpha, P_alpha = alpha_calculation(m,A,B)\n",
    "                    P[k].append(copy.deepcopy(P_alpha))\n",
    "                    P[k].append(copy.deepcopy(y))\n",
    "                    k += 1\n",
    "\n",
    "candidates = []\n",
    "for i in range(len(P)):\n",
    "    candidates.append(P[i][0])\n",
    "print(max(candidates), P[np.argmax(candidates)][1])\n",
    "\n",
    "# print(candidates[200:243])\n",
    "\n",
    "# for i in range(len(P)):\n",
    "#     if P[i][1] == [3,1,1,2,2]:\n",
    "#         print(P[i][0])\n",
    "\n",
    "p = 0\n",
    "for i in range(len(P)):\n",
    "    if P[i][1][1] == 1 and P[i][1][2] == 1:\n",
    "        p += P[i][0]"
   ]
  },
  {
   "cell_type": "code",
   "execution_count": 8,
   "metadata": {},
   "outputs": [
    {
     "name": "stdout",
     "output_type": "stream",
     "text": [
      "[0.005000000000000001, 0.06, 0.675]\n",
      "[0.0091, 0.044550000000000006, 0.0]\n",
      "[0.007511, 0.0034920000000000003, 0.0]\n",
      "[0.0004401200000000001, 0.0011806800000000001, 0.00058507]\n",
      "[6.483200000000002e-05, 0.00019407440000000005, 0.00013965240000000004]\n",
      "[0.0018068000000000003, 0.0015888800000000004, 0.0004358400000000001]\n",
      "[0.008236000000000002, 0.007264000000000001, 0.0019440000000000008]\n",
      "[0.038000000000000006, 0.03240000000000001, 0.02720000000000001]\n",
      "[0.21000000000000002, 0.18000000000000002, 0.16000000000000003]\n",
      "[1, 1, 1]\n",
      "0.0003985588000000001 0.0003985588000000001\n"
     ]
    }
   ],
   "source": [
    "y = [3,1,1,2,2]\n",
    "\n",
    "alpha, P_alpha = alpha_calculation(m,A,B)\n",
    "beta, P_beta = beta_calculation(m,A,B)\n",
    "\n",
    "for i in range(len(alpha)):\n",
    "    print(alpha[i])\n",
    "\n",
    "for i in range(len(beta)):\n",
    "    print(beta[i])\n",
    "\n",
    "print(P_alpha, P_beta)"
   ]
  },
  {
   "cell_type": "markdown",
   "metadata": {},
   "source": [
    "- __Задача ІІ (навчання)__"
   ]
  },
  {
   "cell_type": "code",
   "execution_count": 9,
   "metadata": {},
   "outputs": [],
   "source": [
    "A = [[0.2, 0.3, 0.5],\n",
    "     [0.2, 0.2, 0.6],\n",
    "     [0.0, 0.2, 0.8]]\n",
    "\n",
    "B = [[0.7, 0.2, 0.1],\n",
    "     [0.3, 0.4, 0.3],\n",
    "     [0.0, 0.1, 0.9]]\n",
    "\n",
    "y = [3,1,1,2,2]\n",
    "\n",
    "N = len(B)\n",
    "M = len(B[0])\n",
    "\n",
    "m = [0.05, 0.2, 0.75]\n",
    "\n",
    "time = len(y)"
   ]
  },
  {
   "cell_type": "code",
   "execution_count": 10,
   "metadata": {},
   "outputs": [],
   "source": [
    "A = [[0.34, 0.33, 0.33],\n",
    "     [0.33, 0.34, 0.33],\n",
    "     [0.33, 0.33, 0.34]]\n",
    "\n",
    "B = [[0.34, 0.33, 0.33],\n",
    "     [0.33, 0.34, 0.33],\n",
    "     [0.33, 0.33, 0.34]]\n",
    "\n",
    "y = [3,1,1,2,2]\n",
    "\n",
    "N = len(B)\n",
    "M = len(B[0])\n",
    "\n",
    "m = [0.33, 0.34, 0.33]\n",
    "\n",
    "time = len(y)"
   ]
  },
  {
   "cell_type": "code",
   "execution_count": 11,
   "metadata": {},
   "outputs": [
    {
     "name": "stdout",
     "output_type": "stream",
     "text": [
      "k=0 & 0.004115 & 0.004115 \\\\\n",
      "k=1 & 0.005121 & 0.001007 \\\\\n",
      "k=2 & 0.005126 & 4e-06 \\\\\n",
      "k=3 & 0.005142 & 1.6e-05 \\\\\n",
      "k=4 & 0.005206 & 6.4e-05 \\\\\n",
      "k=5 & 0.00545 & 0.000244 \\\\\n",
      "k=6 & 0.006319 & 0.000869 \\\\\n",
      "k=7 & 0.008941 & 0.002622 \\\\\n",
      "k=8 & 0.015249 & 0.006308 \\\\\n",
      "k=9 & 0.029011 & 0.013762 \\\\\n",
      "k=10 & 0.048554 & 0.019543 \\\\\n",
      "k=11 & 0.060727 & 0.012173 \\\\\n",
      "k=12 & 0.063046 & 0.002319 \\\\\n",
      "k=13 & 0.063939 & 0.000892 \\\\\n",
      "k=14 & 0.06606 & 0.002122 \\\\\n",
      "k=15 & 0.0713 & 0.00524 \\\\\n",
      "k=16 & 0.084096 & 0.012796 \\\\\n",
      "k=17 & 0.112732 & 0.028636 \\\\\n",
      "k=18 & 0.161779 & 0.049047 \\\\\n",
      "k=19 & 0.212718 & 0.050939 \\\\\n",
      "k=20 & 0.238689 & 0.025971 \\\\\n",
      "k=21 & 0.246017 & 0.007329 \\\\\n",
      "k=22 & 0.247957 & 0.00194 \\\\\n",
      "\n",
      "P = 0.24795745827095714\n",
      "\n",
      "m:\n",
      " [0.0, 0.0, 1.0000000000000002] \n",
      "\n",
      "A:\n",
      "[0.47207029085097546, 0.5279297091490245, 0.0]\n",
      "[4.0930862170117625e-10, 0.9999999995906914, 0.0]\n",
      "[0.9999999999494231, 5.0576734410649967e-11, 0.0]\n",
      "\n",
      "B:\n",
      "[0.9996875062150524, 0.0003124937849476858, 0.0]\n",
      "[0.05052738127029629, 0.9494726187297038, 0.0]\n",
      "[0.0, 0.0, 1.0]\n"
     ]
    }
   ],
   "source": [
    "number_of_iterations = 23\n",
    "P_alpha = 0\n",
    "\n",
    "for i in range(number_of_iterations):\n",
    "    delta = P_alpha\n",
    "\n",
    "    alpha, P_alpha = alpha_calculation(m,A,B)\n",
    "    beta, P_beta = beta_calculation(m,A,B)\n",
    "    gamma_i, gamma_ij = gamma(alpha,beta,P_alpha)\n",
    "    m,A,B = reestimation(m,A,B,gamma_i,gamma_ij)\n",
    "\n",
    "    delta = P_alpha - delta\n",
    "    print(f\"k={i} & {round(P_alpha,6)} & {round(delta,6)} \\\\\\\\\")\n",
    "\n",
    "print(\"\\nP =\", P_alpha)\n",
    "\n",
    "print(\"\\nm:\\n\", m, \"\\n\\nA:\")\n",
    "for i in range(len(A)):\n",
    "    print(A[i])\n",
    "print(\"\\nB:\")\n",
    "for i in range(N):\n",
    "    print(B[i])"
   ]
  },
  {
   "cell_type": "markdown",
   "metadata": {},
   "source": [
    "- __Задача ІІІ (декодування)__"
   ]
  },
  {
   "cell_type": "code",
   "execution_count": 12,
   "metadata": {},
   "outputs": [],
   "source": [
    "A = [[0.2, 0.3, 0.5],\n",
    "     [0.2, 0.2, 0.6],\n",
    "     [0.0, 0.2, 0.8]]\n",
    "\n",
    "B = [[0.7, 0.2, 0.1],\n",
    "     [0.3, 0.4, 0.3],\n",
    "     [0.0, 0.1, 0.9]]\n",
    "\n",
    "N = len(B)\n",
    "M = len(B[0])\n",
    "\n",
    "m = [0.05, 0.2, 0.75]\n",
    "\n",
    "# y = [1,3,2,1,3]\n",
    "# y = [3,1,1,2,2]\n",
    "y = [3,3,3,3,3]\n",
    "\n",
    "time = len(y)"
   ]
  },
  {
   "cell_type": "markdown",
   "metadata": {},
   "source": [
    "- __Алгоритм Вітербі__"
   ]
  },
  {
   "cell_type": "code",
   "execution_count": 13,
   "metadata": {},
   "outputs": [],
   "source": [
    "def viterbiL(y,m,A,B):\n",
    "    time = len(y)\n",
    "    delta = [[0.0 for i in range(len(B))] for t in range(time)]\n",
    "    psi = [[0 for i in range(len(B))] for t in range(time)]\n",
    "\n",
    "    for t in range(time):\n",
    "        for i in range(len(B)):\n",
    "            if t == 0: \n",
    "                delta[t][i] = m[i]*B[i][y[t]]\n",
    "            else:\n",
    "                dA = []\n",
    "                for j in range(len(B)):\n",
    "                    dA.append(delta[t-1][j]*A[j][i]*B[i][y[t]])\n",
    "                delta[t][i] = max(dA)\n",
    "                psi[t][i] = np.argmax(dA)\n",
    "\n",
    "    x = []\n",
    "    delta_hat = max(delta[time-1])\n",
    "    x.append(np.argmax(delta[time-1]))\n",
    "\n",
    "    for t in range(time-2, -1, -1):\n",
    "        x.insert(0, psi[t+1][x[0]])\n",
    "\n",
    "    return x"
   ]
  },
  {
   "cell_type": "code",
   "execution_count": 14,
   "metadata": {},
   "outputs": [],
   "source": [
    "def viterbi_SF(y,A,B,Pi=None):\n",
    "    \"\"\"\n",
    "    Return the MAP estimate of state trajectory of Hidden Markov Model.\n",
    "\n",
    "    Parameters\n",
    "    ----------\n",
    "    y : array (T,)\n",
    "        Observation state sequence. int dtype.\n",
    "    A : array (K, K)\n",
    "        State transition matrix. See HiddenMarkovModel.state_transition  for\n",
    "        details.\n",
    "    B : array (K, M)\n",
    "        Emission matrix. See HiddenMarkovModel.emission for details.\n",
    "    Pi: optional, (K,)\n",
    "        Initial state probabilities: Pi[i] is the probability x[0] == i. If\n",
    "        None, uniform initial distribution is assumed (Pi[:] == 1/K).\n",
    "\n",
    "    Returns\n",
    "    -------\n",
    "    x : array (T,)\n",
    "        Maximum a posteriori probability estimate of hidden state trajectory,\n",
    "        conditioned on observation sequence y under the model parameters A, B,\n",
    "        Pi.\n",
    "    T1: array (K, T)\n",
    "        the probability of the most likely path so far\n",
    "    T2: array (K, T)\n",
    "        the x_j-1 of the most likely path so far\n",
    "    \"\"\"\n",
    "    # Cardinality of the state space\n",
    "    K = A.shape[0]\n",
    "    # Initialize the priors with default (uniform dist) if not given by caller\n",
    "    Pi = Pi if Pi is not None else np.full(K, 1 / K)\n",
    "    T = len(y)\n",
    "    T1 = np.empty((K, T), 'd')\n",
    "    T2 = np.empty((K, T), 'B')\n",
    "\n",
    "    # Initilaize the tracking tables from first observation\n",
    "    T1[:, 0] = Pi * B[:, y[0]]\n",
    "    T2[:, 0] = 0\n",
    "\n",
    "    # Iterate throught the observations updating the tracking tables\n",
    "    for i in range(1, T):\n",
    "        T1[:, i] = np.max(T1[:, i - 1] * A.T * B[np.newaxis, :, y[i]-1].T, 1)\n",
    "        T2[:, i] = np.argmax(T1[:, i - 1] * A.T, 1)\n",
    "\n",
    "    # Build the output, optimal model trajectory\n",
    "    x = np.empty(T, 'B')\n",
    "    x[-1] = np.argmax(T1[:, T - 1])\n",
    "    for i in reversed(range(1, T)):\n",
    "        x[i - 1] = T2[x[i], i]\n",
    "\n",
    "    return x"
   ]
  },
  {
   "cell_type": "code",
   "execution_count": 15,
   "metadata": {},
   "outputs": [],
   "source": [
    "def viterbi(y,m,A,B):\n",
    "    delta = [[0.0 for i in range(N)] for t in range(time)]\n",
    "    psi = [[0 for i in range(N)] for t in range(time)]\n",
    "\n",
    "    for t in range(time):\n",
    "        for i in range(N):\n",
    "            if t == 0: \n",
    "                delta[t][i] = m[i]*B[i][y[t]-1]\n",
    "            else:\n",
    "                dA = []\n",
    "                for j in range(N):\n",
    "                    dA.append(delta[t-1][j]*A[j][i]*B[i][y[t]-1])\n",
    "                delta[t][i] = max(dA)\n",
    "                psi[t][i] = np.argmax(dA) + 1\n",
    "\n",
    "    # print(delta)\n",
    "    # print(psi)\n",
    "\n",
    "    x = []\n",
    "    delta_hat = max(delta[time-1])\n",
    "    x.append(np.argmax(delta[time-1])+1)\n",
    "\n",
    "    for t in range(time-2, -1, -1):\n",
    "        x.insert(0, psi[t+1][x[0]-1])\n",
    "\n",
    "    return x"
   ]
  },
  {
   "cell_type": "code",
   "execution_count": 16,
   "metadata": {},
   "outputs": [],
   "source": [
    "def log_viterbi(y,m,A,B):\n",
    "    time = len(y)\n",
    "\n",
    "    delta = [[0.0 for i in range(len(B))] for t in range(time)]\n",
    "    psi = [[0 for i in range(len(B))] for t in range(time)]\n",
    "\n",
    "    for t in range(time):\n",
    "        for i in range(len(B)):\n",
    "            if t == 0:\n",
    "                # delta[t][i] = m[i]*B[i][y[t]-1]\n",
    "                delta[t][i] = np.log(m[i]) + np.log(B[i][y[t]-1])\n",
    "            else:\n",
    "                dA = []\n",
    "                for j in range(len(B)):\n",
    "                    # dA.append(delta[t-1][j]*A[j][i]*B[i][y[t]-1])\n",
    "                    dA.append(delta[t-1][j] + np.log(A[j][i]) + np.log(B[i][y[t]-1]))\n",
    "                delta[t][i] = max(dA)\n",
    "                psi[t][i] = np.argmax(dA) + 1\n",
    "    \n",
    "    x = []\n",
    "    delta_hat = max(delta[time-1])\n",
    "    x.append(np.argmax(delta[time-1])+1)\n",
    "\n",
    "    for t in range(time-2, -1, -1):\n",
    "        x.insert(0, psi[t+1][x[0]-1])\n",
    "\n",
    "    return x"
   ]
  },
  {
   "cell_type": "code",
   "execution_count": 17,
   "metadata": {},
   "outputs": [],
   "source": [
    "def log_viterbi_nilsson(y,m,A,B):\n",
    "    delta = [[0.0 for i in range(N)] for t in range(time)]\n",
    "    psi = [[0 for i in range(N)] for t in range(time)]\n",
    "\n",
    "    for t in range(time):\n",
    "        for i in range(N):\n",
    "            if t == 0: \n",
    "                delta[t][i] = np.log(m[i]) + np.log(B[i][y[t]-1])\n",
    "            else:\n",
    "                dA = []\n",
    "                for j in range(N):\n",
    "                    dA.append(delta[t-1][j] + np.log(A[j][i]))\n",
    "                delta[t][i] = np.log(B[i][y[t]-1]) + max(dA)\n",
    "                psi[t][i] = np.argmax(dA) + 1\n",
    "\n",
    "    # print(delta)\n",
    "    # print(psi)\n",
    "\n",
    "    x = []\n",
    "    delta_hat = max(delta[time-1])\n",
    "    x.append(np.argmax(delta[time-1])+1)\n",
    "\n",
    "    for t in range(time-2, -1, -1):\n",
    "        x.insert(0, psi[t+1][x[0]-1])\n",
    "\n",
    "    return x"
   ]
  },
  {
   "cell_type": "code",
   "execution_count": 19,
   "metadata": {},
   "outputs": [
    {
     "name": "stdout",
     "output_type": "stream",
     "text": [
      "\n",
      "Origin: [3, 3, 3, 3, 3]\n",
      "\n",
      "Origin: [2, 2, 2, 2, 2]\n",
      "\n",
      "Log   : [3, 3, 3, 3, 3]\n",
      "\n",
      "Misplaces = 0\n"
     ]
    },
    {
     "name": "stderr",
     "output_type": "stream",
     "text": [
      "/tmp/ipykernel_38647/3884816887.py:16: RuntimeWarning: divide by zero encountered in log\n",
      "  dA.append(delta[t-1][j] + np.log(A[j][i]) + np.log(B[i][y[t]-1]))\n"
     ]
    }
   ],
   "source": [
    "print(f\"\\nOrigin: {viterbi(y,m,A,B)}\")\n",
    "print(f\"\\nOrigin: {viterbiL([y[i]-1 for i in range(len(y))],m,A,B)}\")\n",
    "print(f\"\\nLog   : {log_viterbi(y,m,A,B)}\")\n",
    "\n",
    "x_1 = viterbi(y,m,A,B)\n",
    "x_2 = log_viterbi(y,m,A,B)\n",
    "\n",
    "k = 0\n",
    "for i in range(len(x_1)):\n",
    "    if x_1[i] != x_2[i]: \n",
    "        k += 1\n",
    "\n",
    "print(\"\\nMisplaces =\", k)"
   ]
  }
 ],
 "metadata": {
  "kernelspec": {
   "display_name": "Python 3.8.10 64-bit",
   "language": "python",
   "name": "python3"
  },
  "language_info": {
   "codemirror_mode": {
    "name": "ipython",
    "version": 3
   },
   "file_extension": ".py",
   "mimetype": "text/x-python",
   "name": "python",
   "nbconvert_exporter": "python",
   "pygments_lexer": "ipython3",
   "version": "3.8.10"
  },
  "orig_nbformat": 4,
  "vscode": {
   "interpreter": {
    "hash": "916dbcbb3f70747c44a77c7bcd40155683ae19c65e1c03b4aa3499c5328201f1"
   }
  }
 },
 "nbformat": 4,
 "nbformat_minor": 2
}
